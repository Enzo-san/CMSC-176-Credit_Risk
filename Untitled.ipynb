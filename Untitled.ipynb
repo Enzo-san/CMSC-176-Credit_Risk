{
 "cells": [
  {
   "cell_type": "code",
   "execution_count": 1,
   "metadata": {},
   "outputs": [],
   "source": [
    "import pandas as pd\n",
    "import numpy as np\n",
    "\n",
    "\n",
    "# dummy data as example\n",
    "age = ['18 to 25','26 to 35','36 to 45','46 to 60','>= 60']\n",
    "df = pd.DataFrame(age, columns=['Age Group'])\n",
    "df['counts'] = [31234, 30293, 29384, 30192, 27394]\n",
    "df['bad'] = [4920, 4123, 3784, 2608, 1479]\n",
    "df['good'] = df.counts - df.bad\n",
    "\n",
    "# calculate WOE\n",
    "df['total_distri'] = df.counts/sum(df.counts)\n",
    "df['bad_distri'] = df.bad/sum(df.bad)\n",
    "df['good_distri'] = df.good/sum(df.good)\n",
    "df['WOE'] = np.log(df.good_distri / df.bad_distri)\n",
    "df['WOE%'] = df.WOE * 100"
   ]
  },
  {
   "cell_type": "code",
   "execution_count": 4,
   "metadata": {},
   "outputs": [
    {
     "data": {
      "text/plain": [
       "0.1532094169160138"
      ]
     },
     "execution_count": 4,
     "metadata": {},
     "output_type": "execute_result"
    }
   ],
   "source": [
    "IV_age = sum((df.good_distri - df.bad_distri) * df.WOE)\n",
    "IV_age"
   ]
  },
  {
   "cell_type": "code",
   "execution_count": 7,
   "metadata": {},
   "outputs": [
    {
     "name": "stdout",
     "output_type": "stream",
     "text": [
      "Factor 28.85 | Offset: 487.12\n"
     ]
    }
   ],
   "source": [
    "Factor = 20/np.log(2)\n",
    "Offset = 600 - Factor*np.log(50)\n",
    "print('Factor', round(Factor,2), '| Offset:', round(Offset, 2))"
   ]
  },
  {
   "cell_type": "code",
   "execution_count": null,
   "metadata": {},
   "outputs": [],
   "source": []
  }
 ],
 "metadata": {
  "kernelspec": {
   "display_name": "Python 3",
   "language": "python",
   "name": "python3"
  },
  "language_info": {
   "codemirror_mode": {
    "name": "ipython",
    "version": 3
   },
   "file_extension": ".py",
   "mimetype": "text/x-python",
   "name": "python",
   "nbconvert_exporter": "python",
   "pygments_lexer": "ipython3",
   "version": "3.7.3"
  }
 },
 "nbformat": 4,
 "nbformat_minor": 4
}
